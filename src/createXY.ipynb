{
 "cells": [
  {
   "cell_type": "code",
   "execution_count": 2,
   "metadata": {
    "collapsed": false
   },
   "outputs": [],
   "source": [
    "import cPickle as pickle\n",
    "import numpy as np\n",
    "\n",
    "import os\n",
    "import os.path as osp\n",
    "import skimage.io as sio\n",
    "import skimage.transform\n",
    "\n",
    "\n",
    "# from natsort import natsorted"
   ]
  },
  {
   "cell_type": "code",
   "execution_count": 3,
   "metadata": {
    "collapsed": true
   },
   "outputs": [],
   "source": [
    "root = '/home/hoa/Desktop/projects/resources'"
   ]
  },
  {
   "cell_type": "code",
   "execution_count": 4,
   "metadata": {
    "collapsed": false
   },
   "outputs": [],
   "source": [
    "im_labels = np.load(osp.join(root,'datasets/msrcv2/imgsWithLabels.npy')).item()"
   ]
  },
  {
   "cell_type": "code",
   "execution_count": null,
   "metadata": {
    "collapsed": false
   },
   "outputs": [],
   "source": [
    "im_names = sorted(im_labels.keys())"
   ]
  },
  {
   "cell_type": "code",
   "execution_count": null,
   "metadata": {
    "collapsed": true
   },
   "outputs": [],
   "source": [
    "label_color = np.load(osp.join(root,'datasets/msrcv2/labelCodes.npy')).item()\n",
    "label_color"
   ]
  },
  {
   "cell_type": "markdown",
   "metadata": {},
   "source": [
    "# Create X"
   ]
  },
  {
   "cell_type": "code",
   "execution_count": null,
   "metadata": {
    "collapsed": false
   },
   "outputs": [],
   "source": [
    "N = len(im_labels); K = len(label_color)\n",
    "\n",
    "n_ops = 5\n",
    "Xaug = np.zeros((N*n_ops, 227, 227, 3), dtype='uint8')"
   ]
  },
  {
   "cell_type": "code",
   "execution_count": 9,
   "metadata": {
    "collapsed": true
   },
   "outputs": [],
   "source": [
    "def augment_image(im, im_name=\"\"):  \n",
    "    out = np.zeros((5, 227, 227, 3))\n",
    "    h,w,_ = im.shape\n",
    "    #print h,w\n",
    "    \n",
    "    # resized if not done yet    \n",
    "    if h is not 256 and w is not 256:\n",
    "#         print 'Resizing',im_name\n",
    "        if h>=w:\n",
    "            im = skimage.transform.resize(im,\n",
    "                (h*256//w, 256), \n",
    "                mode='nearest', preserve_range=True)    \n",
    "        else:\n",
    "            im = skimage.transform.resize(im,\n",
    "                (256, w*256//h), \n",
    "                mode='nearest', preserve_range=True)    \n",
    "    \n",
    "    h,w,_ = im.shape\n",
    "    #print h,w\n",
    "    # 5 crops\n",
    "    out[0] = im[h//2-113:h//2+114, w//2-113:w//2+114, :]\n",
    "    out[1] = im[:227, :227, :]\n",
    "    out[2] = im[-227:, :227, :]\n",
    "    out[3] = im[:227, -227:, :]\n",
    "    out[4] = im[-227:, -227:, :]\n",
    "    \n",
    "    return out"
   ]
  },
  {
   "cell_type": "code",
   "execution_count": null,
   "metadata": {
    "collapsed": true
   },
   "outputs": [],
   "source": [
    "path = osp.join(root,'datasets/msrcv2/Images')"
   ]
  },
  {
   "cell_type": "code",
   "execution_count": null,
   "metadata": {
    "collapsed": true
   },
   "outputs": [],
   "source": [
    "for n in xrange(N):\n",
    "    im_name = im_names[n]\n",
    "    im = sio.imread(osp.join(path,im_name)+'.bmp')\n",
    "\n",
    "    out = augment_image(im, im_name)\n",
    "    for i in xrange(n_ops):\n",
    "        Xaug[n+N*i]=out[i]"
   ]
  },
  {
   "cell_type": "code",
   "execution_count": null,
   "metadata": {
    "collapsed": false
   },
   "outputs": [],
   "source": [
    "Xaug.shape"
   ]
  },
  {
   "cell_type": "code",
   "execution_count": null,
   "metadata": {
    "collapsed": false
   },
   "outputs": [],
   "source": [
    "np.save(osp.join(root,'datasets/msrcv2/Xaug_b01c.npy'), Xaug)"
   ]
  },
  {
   "cell_type": "markdown",
   "metadata": {},
   "source": [
    "## Create Y\n",
    "\n",
    "Note that `void` is still included in `im_labels` with id=22 (23rd column), so we will create Y of size `N x (K+1)` and remove column index 22"
   ]
  },
  {
   "cell_type": "code",
   "execution_count": null,
   "metadata": {
    "collapsed": false
   },
   "outputs": [],
   "source": [
    "Y = np.zeros((N,K+1), dtype='int32') \n",
    "for i in xrange(len(im_names)):    \n",
    "    col_indices = np.asarray(im_labels[im_names[i]])-1\n",
    "    \n",
    "    if np.all(col_indices>=0):\n",
    "        Y[i, col_indices]=1\n",
    "    else:\n",
    "        print 'Error: negative column index'\n",
    "        \n",
    "Y = np.delete(Y,22,1)\n",
    "Y.shape"
   ]
  },
  {
   "cell_type": "code",
   "execution_count": null,
   "metadata": {
    "collapsed": false
   },
   "outputs": [],
   "source": [
    "Yaug = np.tile(Y, (n_ops,1))"
   ]
  },
  {
   "cell_type": "code",
   "execution_count": null,
   "metadata": {
    "collapsed": false
   },
   "outputs": [],
   "source": [
    "Yaug.shape"
   ]
  },
  {
   "cell_type": "code",
   "execution_count": null,
   "metadata": {
    "collapsed": false
   },
   "outputs": [],
   "source": [
    "np.save(osp.join(root,'datasets/msrcv2/Y.npy'), Y)"
   ]
  },
  {
   "cell_type": "code",
   "execution_count": null,
   "metadata": {
    "collapsed": false
   },
   "outputs": [],
   "source": [
    "np.save(osp.join(root,'datasets/msrcv2/Yaug.npy'), Yaug)"
   ]
  },
  {
   "cell_type": "markdown",
   "metadata": {},
   "source": [
    "***Double check if image augmentation works properly***"
   ]
  },
  {
   "cell_type": "code",
   "execution_count": null,
   "metadata": {
    "collapsed": false
   },
   "outputs": [],
   "source": [
    "Xaug = np.load(osp.join(root,'datasets/msrcv2/Xaug_b01c.npy'))\n",
    "Yaug = np.load(osp.join(root,'datasets/msrcv2/Yaug.npy'))\n",
    "\n",
    "import matplotlib.pylab as plt\n",
    "%matplotlib inline\n",
    "\n",
    "idx = np.random.randint(0,len(Xaug),20)\n",
    "label_names = np.asarray(sorted(label_color.keys()))\n",
    "\n",
    "def plot_image(im):\n",
    "    plt.figure()\n",
    "    plt.imshow(im)\n",
    "    plt.axis('off')    \n",
    "\n",
    "for i in idx:\n",
    "    plot_image(Xaug[i])\n",
    "    \n",
    "    rawid = i%N\n",
    "    plt.text(256,30,str(im_names[rawid])+': '+str(label_names[np.where(Y[rawid]==1)]))\n",
    "    "
   ]
  },
  {
   "cell_type": "markdown",
   "metadata": {},
   "source": [
    "## for Corel5K"
   ]
  },
  {
   "cell_type": "code",
   "execution_count": null,
   "metadata": {
    "collapsed": true
   },
   "outputs": [],
   "source": [
    "X_train = np.load(osp.join(root,'datasets/corel5k/X_train_rgb.npy'))"
   ]
  },
  {
   "cell_type": "code",
   "execution_count": 7,
   "metadata": {
    "collapsed": true
   },
   "outputs": [],
   "source": [
    "n_ops=5\n",
    "Xaug = np.zeros((N*n_ops, 227, 227, 3), dtype='uint8')\n",
    "N=len(X_train)"
   ]
  },
  {
   "cell_type": "code",
   "execution_count": 11,
   "metadata": {
    "collapsed": false
   },
   "outputs": [],
   "source": [
    "for n in xrange(N):    \n",
    "    im = X_train[n]\n",
    "\n",
    "    out = augment_image(im)\n",
    "    for i in xrange(n_ops):\n",
    "        Xaug[n+N*i]=out[i]"
   ]
  },
  {
   "cell_type": "code",
   "execution_count": 5,
   "metadata": {
    "collapsed": false
   },
   "outputs": [],
   "source": [
    "Y_test = np.load(osp.join(root,'datasets/corel5k/Y_test.npy'))"
   ]
  },
  {
   "cell_type": "code",
   "execution_count": 6,
   "metadata": {
    "collapsed": false
   },
   "outputs": [
    {
     "data": {
      "text/plain": [
       "499"
      ]
     },
     "execution_count": 6,
     "metadata": {},
     "output_type": "execute_result"
    }
   ],
   "source": [
    "len(Y_test)"
   ]
  },
  {
   "cell_type": "code",
   "execution_count": null,
   "metadata": {
    "collapsed": false
   },
   "outputs": [],
   "source": [
    "N = Yaug.shape[0]"
   ]
  },
  {
   "cell_type": "code",
   "execution_count": null,
   "metadata": {
    "collapsed": false
   },
   "outputs": [],
   "source": [
    "import matplotlib.pylab as plt\n",
    "%matplotlib inline\n",
    "\n",
    "idx = np.random.randint(0,len(Xaug),10)\n",
    "# label_names = np.asarray(sorted(label_color.keys()))\n",
    "\n",
    "def plot_image(im):\n",
    "    plt.figure()\n",
    "    plt.imshow(im)\n",
    "    plt.axis('off')    \n",
    "\n",
    "for i in idx:\n",
    "    plot_image(Xaug[i])\n",
    "    \n",
    "    rawid = i%N\n",
    "#     plt.text(256,30,str(im_names[rawid])+': '+str(label_names[np.where(Y[rawid]==1)]))\n",
    "    "
   ]
  },
  {
   "cell_type": "code",
   "execution_count": null,
   "metadata": {
    "collapsed": true
   },
   "outputs": [],
   "source": []
  }
 ],
 "metadata": {
  "kernelspec": {
   "display_name": "Python [Root]",
   "language": "python",
   "name": "Python [Root]"
  },
  "language_info": {
   "codemirror_mode": {
    "name": "ipython",
    "version": 2
   },
   "file_extension": ".py",
   "mimetype": "text/x-python",
   "name": "python",
   "nbconvert_exporter": "python",
   "pygments_lexer": "ipython2",
   "version": "2.7.11"
  }
 },
 "nbformat": 4,
 "nbformat_minor": 0
}
