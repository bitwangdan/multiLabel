{
 "cells": [
  {
   "cell_type": "code",
   "execution_count": 2,
   "metadata": {
    "collapsed": true
   },
   "outputs": [],
   "source": [
    "import cPickle as pickle\n",
    "import numpy as np"
   ]
  },
  {
   "cell_type": "code",
   "execution_count": 3,
   "metadata": {
    "collapsed": false
   },
   "outputs": [
    {
     "data": {
      "text/plain": [
       "1.959963984540054"
      ]
     },
     "execution_count": 3,
     "metadata": {},
     "output_type": "execute_result"
    }
   ],
   "source": [
    "import scipy.stats as st\n",
    "st.norm.ppf(.975)"
   ]
  },
  {
   "cell_type": "code",
   "execution_count": 4,
   "metadata": {
    "collapsed": true
   },
   "outputs": [],
   "source": [
    "def estimate_metric(metrics, rounding=3, confidence=0.95):\n",
    "    metrics = np.asarray(metrics)\n",
    "    \n",
    "    mean = metrics.mean()\n",
    "    sem = st.sem(metrics)\n",
    "    z = st.norm.ppf(confidence+(1.-confidence)/2)    \n",
    "    if rounding>=0:\n",
    "        return (round(mean, rounding), round(z*sem, rounding))\n",
    "    else:\n",
    "        return (sem, z*sem)"
   ]
  },
  {
   "cell_type": "code",
   "execution_count": 5,
   "metadata": {
    "collapsed": false
   },
   "outputs": [
    {
     "name": "stdout",
     "output_type": "stream",
     "text": [
      "Results from 2 runs\n"
     ]
    }
   ],
   "source": [
    "hammings = []\n",
    "one_errors = []\n",
    "coverages = []\n",
    "rank_losses = []\n",
    "micros = []\n",
    "macros = []\n",
    "labels = []\n",
    "\n",
    "for seed in xrange(30):\n",
    "    try:\n",
    "        with open('374metrics'+str(seed)) as f:\n",
    "            hamming = pickle.load(f)\n",
    "            one_error = pickle.load(f)\n",
    "            coverage = pickle.load(f)\n",
    "            rank_loss = pickle.load(f)\n",
    "            micro = pickle.load(f)\n",
    "            macro = pickle.load(f)\n",
    "            label = pickle.load(f)\n",
    "    except IOError:\n",
    "        print 'Results from',len(hammings),'runs'\n",
    "        break\n",
    "    hammings.append(hamming)\n",
    "    one_errors.append(one_error)\n",
    "    coverages.append(coverage)\n",
    "    rank_losses.append(rank_loss)\n",
    "    micros.append(micro)\n",
    "    macros.append(macro)\n",
    "    labels.append(label)"
   ]
  },
  {
   "cell_type": "code",
   "execution_count": 6,
   "metadata": {
    "collapsed": false
   },
   "outputs": [
    {
     "name": "stdout",
     "output_type": "stream",
     "text": [
      "Hamming loss (0.011, 0.0)\n",
      "One-error (0.933, 0.0)\n",
      "Coverage (349.333, 0.0)\n",
      "Rank loss (0.673, 0.0)\n"
     ]
    }
   ],
   "source": [
    "print 'Hamming loss',estimate_metric(hammings)\n",
    "print 'One-error',estimate_metric(one_errors)\n",
    "print 'Coverage',estimate_metric(coverages)\n",
    "print 'Rank loss',estimate_metric(rank_losses)"
   ]
  },
  {
   "cell_type": "code",
   "execution_count": 7,
   "metadata": {
    "collapsed": false
   },
   "outputs": [],
   "source": [
    "def estimate_metric_prf(metrics):\n",
    "    n_runs = len(metrics)\n",
    "    ps=[]; rs=[]; f1s=[]\n",
    "    \n",
    "    for i in xrange(n_runs):\n",
    "        ps.append(metrics[i][0])\n",
    "        rs.append(metrics[i][1])\n",
    "        f1s.append(metrics[i][2])\n",
    "    \n",
    "    print estimate_metric(np.asarray(ps))\n",
    "    print estimate_metric(np.asarray(rs))\n",
    "    print estimate_metric(np.asarray(f1s))\n",
    "    "
   ]
  },
  {
   "cell_type": "code",
   "execution_count": 8,
   "metadata": {
    "collapsed": false
   },
   "outputs": [
    {
     "name": "stdout",
     "output_type": "stream",
     "text": [
      "Micro\n",
      "(0.442, 0.0)\n",
      "(0.333, 0.0)\n",
      "(0.38, 0.0)\n",
      "None\n",
      "Macro\n",
      "(0.01, 0.0)\n",
      "(0.01, 0.0)\n",
      "(0.008, 0.0)\n",
      "None\n"
     ]
    }
   ],
   "source": [
    "print 'Micro\\n',estimate_metric_prf(micros)\n",
    "print 'Macro\\n',estimate_metric_prf(macros)"
   ]
  },
  {
   "cell_type": "code",
   "execution_count": null,
   "metadata": {
    "collapsed": false
   },
   "outputs": [],
   "source": []
  }
 ],
 "metadata": {
  "kernelspec": {
   "display_name": "Python 2",
   "language": "python",
   "name": "python2"
  },
  "language_info": {
   "codemirror_mode": {
    "name": "ipython",
    "version": 2
   },
   "file_extension": ".py",
   "mimetype": "text/x-python",
   "name": "python",
   "nbconvert_exporter": "python",
   "pygments_lexer": "ipython2",
   "version": "2.7.10"
  }
 },
 "nbformat": 4,
 "nbformat_minor": 0
}
