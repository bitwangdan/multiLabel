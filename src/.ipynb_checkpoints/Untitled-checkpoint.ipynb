{
 "cells": [
  {
   "cell_type": "code",
   "execution_count": 22,
   "metadata": {
    "collapsed": false
   },
   "outputs": [],
   "source": [
    "import os.path as osp\n",
    "reps=30\n",
    "init_seed=0\n",
    "from sklearn.cross_validation import train_test_split\n",
    "\n",
    "\n",
    "res_root = '/home/hoa/Desktop/projects/resources'\n",
    "Y_path=osp.join(res_root, 'datasets/corel5k/Y_train.npy')\n",
    "Y_test_path=osp.join(res_root, 'datasets/corel5k/Y_test.npy')\n",
    "acc = 0\n",
    "Y = np.load(Y_path)\n",
    "Y_test = np.load(Y_test_path)"
   ]
  },
  {
   "cell_type": "code",
   "execution_count": 40,
   "metadata": {
    "collapsed": true
   },
   "outputs": [],
   "source": [
    "def wpr(Y_test, y_pred):\n",
    "    '''\n",
    "    Per-word precision/label    \n",
    "    '''\n",
    "    K_test = np.sum(Y_test.sum(0)>0)\n",
    "\n",
    "    # Confusion table\n",
    "    tp = np.multiply(Y_test, y_pred) # true positives\n",
    "    fp = y_pred - Y_test\n",
    "    fp[np.where(fp<0)]=0 # false positives\n",
    "    fn = Y_test - y_pred\n",
    "    fn[np.where(fn<0)]=0 # false negatives\n",
    "\n",
    "    # per-word precision\n",
    "    B=tp.sum(0)\n",
    "    A=(tp+fp).sum(0)    \n",
    "    C=(tp+fn).sum(0)\n",
    "    wp = np.nan_to_num(B.astype(np.float)/A).sum()/K_test    \n",
    "    # per-word recall\n",
    "    wr = np.nan_to_num(B.astype(np.float)/C).sum()/K_test    \n",
    "\n",
    "    return wp, wr\n",
    "\n",
    "def wpr_at_k(Y_test, y_pred, k):\n",
    "    '''\n",
    "    Per-word precision/label at k\n",
    "    '''   \n",
    "    idx_k = np.where(y_pred.sum(1)==k)\n",
    "    wp_at_k, wr_at_k = wpr(Y_test[idx_k], y_pred[idx_k])\n",
    "    \n",
    "    print \"P@{0}: {1}\\nR@{0}: {2}\\nNr.images:{3}\".format(k,wp_at_k, wr_at_k, len(idx_k))\n",
    "    \n"
   ]
  },
  {
   "cell_type": "code",
   "execution_count": 35,
   "metadata": {
    "collapsed": false
   },
   "outputs": [
    {
     "data": {
      "text/plain": [
       "array([[1, 1, 1, 1, 1],\n",
       "       [1, 0, 0, 1, 0],\n",
       "       [1, 0, 1, 1, 1],\n",
       "       [0, 0, 0, 0, 0],\n",
       "       [0, 0, 0, 1, 0],\n",
       "       [1, 1, 0, 1, 1],\n",
       "       [0, 1, 0, 1, 0],\n",
       "       [1, 1, 1, 0, 1],\n",
       "       [0, 0, 1, 1, 1],\n",
       "       [1, 1, 1, 0, 1]])"
      ]
     },
     "execution_count": 35,
     "metadata": {},
     "output_type": "execute_result"
    }
   ],
   "source": [
    "Y_test=np.random.randint(0,2,(10,5))\n",
    "y_pred=np.random.randint(0,2,(10,5))\n",
    "Y_test"
   ]
  },
  {
   "cell_type": "code",
   "execution_count": 36,
   "metadata": {
    "collapsed": false
   },
   "outputs": [
    {
     "data": {
      "text/plain": [
       "array([[0, 0, 1, 1, 0],\n",
       "       [0, 1, 0, 1, 1],\n",
       "       [0, 1, 1, 0, 0],\n",
       "       [1, 1, 1, 0, 0],\n",
       "       [0, 0, 0, 0, 1],\n",
       "       [1, 1, 1, 0, 1],\n",
       "       [0, 1, 1, 0, 0],\n",
       "       [1, 0, 0, 0, 1],\n",
       "       [1, 0, 0, 0, 0],\n",
       "       [0, 1, 0, 1, 0]])"
      ]
     },
     "execution_count": 36,
     "metadata": {},
     "output_type": "execute_result"
    }
   ],
   "source": [
    "y_pred"
   ]
  },
  {
   "cell_type": "code",
   "execution_count": 41,
   "metadata": {
    "collapsed": false
   },
   "outputs": [
    {
     "name": "stdout",
     "output_type": "stream",
     "text": [
      "P@3:0.5\n",
      "R@3:0.5\n",
      "Nr.images:1\n"
     ]
    },
    {
     "name": "stderr",
     "output_type": "stream",
     "text": [
      "/home/hoa/anaconda2/lib/python2.7/site-packages/ipykernel/__main__.py:20: RuntimeWarning: invalid value encountered in divide\n"
     ]
    }
   ],
   "source": [
    "wpr_at_k(Y_test, y_pred, 3)"
   ]
  },
  {
   "cell_type": "code",
   "execution_count": 14,
   "metadata": {
    "collapsed": true
   },
   "outputs": [
    {
     "name": "stdout",
     "output_type": "stream",
     "text": [
      "23 23\n",
      "23 23\n",
      "23 23\n",
      "23 22\n",
      "23 23\n",
      "23 22\n",
      "23 23\n",
      "23 23\n",
      "23 23\n",
      "23 22\n",
      "23 23\n",
      "23 23\n",
      "23 23\n",
      "23 23\n",
      "23 22\n",
      "23 23\n",
      "23 23\n",
      "23 23\n",
      "23 22\n",
      "23 22\n",
      "23 23\n",
      "23 23\n",
      "23 22\n",
      "23 23\n",
      "23 23\n",
      "23 23\n",
      "23 23\n",
      "23 23\n",
      "23 23\n",
      "23 23\n"
     ]
    },
    {
     "data": {
      "text/plain": [
       "22.766666666666666"
      ]
     },
     "execution_count": 14,
     "metadata": {},
     "output_type": "execute_result"
    }
   ],
   "source": [
    "for seed in np.arange(reps)+init_seed:\n",
    "    # Split train/val/test set\n",
    "    N = len(Y)\n",
    "    indicies = np.arange(N)\n",
    "    Y_train_val, Y_test, idx_train_val, idx_test = train_test_split(\n",
    "        Y, indicies, random_state=seed, train_size=float(2)/3)\n",
    "    acc += np.sum(Y_test.sum(0)>0)    "
   ]
  },
  {
   "cell_type": "code",
   "execution_count": 20,
   "metadata": {
    "collapsed": false
   },
   "outputs": [
    {
     "data": {
      "text/plain": [
       "213"
      ]
     },
     "execution_count": 20,
     "metadata": {},
     "output_type": "execute_result"
    }
   ],
   "source": [
    "np.max(Y.sum(0))"
   ]
  },
  {
   "cell_type": "code",
   "execution_count": 11,
   "metadata": {
    "collapsed": false
   },
   "outputs": [
    {
     "data": {
      "text/plain": [
       "array([10,  9, 12,  9, 29, 15, 45,  9,  7, 10, 17,  7, 26, 13, 73,  1,  8,\n",
       "       34, 13, 13, 49, 38, 24])"
      ]
     },
     "execution_count": 11,
     "metadata": {},
     "output_type": "execute_result"
    }
   ],
   "source": [
    "Y_test.sum(0)"
   ]
  },
  {
   "cell_type": "code",
   "execution_count": 3,
   "metadata": {
    "collapsed": true
   },
   "outputs": [],
   "source": [
    "Y = np.zeros((591,2))\n",
    "indicies = np.arange(len(Y))"
   ]
  },
  {
   "cell_type": "markdown",
   "metadata": {},
   "source": [
    "# sklearn metrics"
   ]
  },
  {
   "cell_type": "code",
   "execution_count": 26,
   "metadata": {
    "collapsed": true
   },
   "outputs": [],
   "source": [
    "from sklearn.metrics import precision_recall_fscore_support, precision_score, recall_score\n",
    "import numpy as np"
   ]
  },
  {
   "cell_type": "code",
   "execution_count": 18,
   "metadata": {
    "collapsed": false
   },
   "outputs": [
    {
     "data": {
      "text/plain": [
       "array([[0, 1, 0, 0, 1, 0],\n",
       "       [1, 1, 1, 1, 0, 0],\n",
       "       [0, 1, 1, 1, 1, 0]])"
      ]
     },
     "execution_count": 18,
     "metadata": {},
     "output_type": "execute_result"
    }
   ],
   "source": [
    "y_true = np.random.randint(0,2,(3,6))\n",
    "y_true"
   ]
  },
  {
   "cell_type": "code",
   "execution_count": 19,
   "metadata": {
    "collapsed": false
   },
   "outputs": [
    {
     "data": {
      "text/plain": [
       "array([[1, 0, 1, 0, 0, 1],\n",
       "       [0, 0, 0, 1, 1, 0],\n",
       "       [0, 1, 1, 0, 1, 1]])"
      ]
     },
     "execution_count": 19,
     "metadata": {},
     "output_type": "execute_result"
    }
   ],
   "source": [
    "y_pred = np.random.randint(0,2,(3,6))\n",
    "y_pred"
   ]
  },
  {
   "cell_type": "code",
   "execution_count": 91,
   "metadata": {
    "collapsed": false
   },
   "outputs": [
    {
     "name": "stdout",
     "output_type": "stream",
     "text": [
      "tp\n",
      "[[0 0 0 0 0 0]\n",
      " [0 0 0 1 0 0]\n",
      " [0 1 1 0 1 0]]\n"
     ]
    }
   ],
   "source": [
    "tp = np.multiply(y_true, y_pred)\n",
    "print 'tp\\n',tp"
   ]
  },
  {
   "cell_type": "code",
   "execution_count": 92,
   "metadata": {
    "collapsed": false
   },
   "outputs": [
    {
     "name": "stdout",
     "output_type": "stream",
     "text": [
      "fp\n",
      "[[1 0 1 0 0 1]\n",
      " [0 0 0 0 1 0]\n",
      " [0 0 0 0 0 1]]\n"
     ]
    }
   ],
   "source": [
    "fp = y_pred - y_true\n",
    "fp[np.where(fp<0)]=0\n",
    "print 'fp\\n',fp"
   ]
  },
  {
   "cell_type": "code",
   "execution_count": 93,
   "metadata": {
    "collapsed": false
   },
   "outputs": [
    {
     "name": "stdout",
     "output_type": "stream",
     "text": [
      "fn\n",
      "[[0 1 0 0 1 0]\n",
      " [1 1 1 0 0 0]\n",
      " [0 0 0 1 0 0]]\n"
     ]
    }
   ],
   "source": [
    "fn = y_true - y_pred\n",
    "fn[np.where(fn<0)]=0\n",
    "print 'fn\\n',fn"
   ]
  },
  {
   "cell_type": "code",
   "execution_count": 94,
   "metadata": {
    "collapsed": false
   },
   "outputs": [
    {
     "name": "stdout",
     "output_type": "stream",
     "text": [
      "micro: (0.44444444444444442, 0.40000000000000002, 0.4210526315789474, None)\n",
      "macro: (0.5, 0.30555555555555552, 0.3611111111111111, None)\n"
     ]
    }
   ],
   "source": [
    "print 'micro:', precision_recall_fscore_support(y_true, y_pred, average='micro')  \n",
    "print 'macro:', precision_recall_fscore_support(y_true, y_pred, average='macro')  "
   ]
  },
  {
   "cell_type": "code",
   "execution_count": 106,
   "metadata": {
    "collapsed": false
   },
   "outputs": [
    {
     "data": {
      "text/plain": [
       "0.5"
      ]
     },
     "execution_count": 106,
     "metadata": {},
     "output_type": "execute_result"
    }
   ],
   "source": [
    "p = tp.sum(0).astype('float32')/(tp+fp).sum(0) # macro == per-class\n",
    "p = np.nan_to_num(p)\n",
    "p.mean()"
   ]
  },
  {
   "cell_type": "code",
   "execution_count": 107,
   "metadata": {
    "collapsed": false
   },
   "outputs": [
    {
     "name": "stderr",
     "output_type": "stream",
     "text": [
      "/home/hoa/anaconda2/lib/python2.7/site-packages/ipykernel/__main__.py:1: RuntimeWarning: invalid value encountered in divide\n",
      "  if __name__ == '__main__':\n"
     ]
    },
    {
     "data": {
      "text/plain": [
       "0.30555555555555552"
      ]
     },
     "execution_count": 107,
     "metadata": {},
     "output_type": "execute_result"
    }
   ],
   "source": [
    "r = tp.sum(0).astype('float32')/(tp+fn).sum(0) # macro\n",
    "r = np.nan_to_num(r)\n",
    "r.mean()"
   ]
  },
  {
   "cell_type": "code",
   "execution_count": 121,
   "metadata": {
    "collapsed": false
   },
   "outputs": [
    {
     "name": "stdout",
     "output_type": "stream",
     "text": [
      "0.444444444444 0.4\n"
     ]
    }
   ],
   "source": [
    "p_mi = tp.sum().astype('float32')/(tp+fp).sum() # micro\n",
    "r_mi = tp.sum().astype('float32')/(tp+fn).sum() # micro\n",
    "print p_mi, r_mi"
   ]
  },
  {
   "cell_type": "code",
   "execution_count": 118,
   "metadata": {
    "collapsed": false
   },
   "outputs": [
    {
     "name": "stdout",
     "output_type": "stream",
     "text": [
      "0.416666666667 0.333333333333\n"
     ]
    }
   ],
   "source": [
    "# per-image\n",
    "A=(tp+fp).sum(1)\n",
    "B=tp.sum(1)\n",
    "C=(tp+fn).sum(1)\n",
    "print (B.astype('float32')/A).mean(), (B.astype('float32')/C).mean()"
   ]
  },
  {
   "cell_type": "code",
   "execution_count": 126,
   "metadata": {
    "collapsed": false
   },
   "outputs": [
    {
     "data": {
      "text/plain": [
       "dtype('int64')"
      ]
     },
     "execution_count": 126,
     "metadata": {},
     "output_type": "execute_result"
    }
   ],
   "source": [
    "A.astype(np.int).dtype"
   ]
  },
  {
   "cell_type": "markdown",
   "metadata": {},
   "source": [
    "# sklearn classifiers"
   ]
  },
  {
   "cell_type": "code",
   "execution_count": 16,
   "metadata": {
    "collapsed": true
   },
   "outputs": [],
   "source": [
    "import numpy as np\n"
   ]
  },
  {
   "cell_type": "code",
   "execution_count": 20,
   "metadata": {
    "collapsed": false
   },
   "outputs": [],
   "source": [
    "feats_train = np.random.randn(96,4096)"
   ]
  },
  {
   "cell_type": "code",
   "execution_count": 22,
   "metadata": {
    "collapsed": false
   },
   "outputs": [],
   "source": [
    "Yaug_train_val = np.random.randint(0,2,(96,23))"
   ]
  },
  {
   "cell_type": "code",
   "execution_count": 25,
   "metadata": {
    "collapsed": false
   },
   "outputs": [
    {
     "data": {
      "text/plain": [
       "OneVsRestClassifier(estimator=LogisticRegression(C=200, class_weight=None, dual=False, fit_intercept=True,\n",
       "          intercept_scaling=1, max_iter=100, multi_class='ovr', n_jobs=1,\n",
       "          penalty='l2', random_state=None, solver='liblinear', tol=0.0001,\n",
       "          verbose=0, warm_start=False),\n",
       "          n_jobs=1)"
      ]
     },
     "execution_count": 25,
     "metadata": {},
     "output_type": "execute_result"
    }
   ],
   "source": [
    "from sklearn.multiclass import OneVsRestClassifier\n",
    "from sklearn.linear_model import LogisticRegression\n",
    "\n",
    "clf = OneVsRestClassifier(LogisticRegression(C=200))\n",
    "clf.fit(feats_train, Yaug_train_val)"
   ]
  },
  {
   "cell_type": "code",
   "execution_count": 46,
   "metadata": {
    "collapsed": false
   },
   "outputs": [],
   "source": [
    "s='string'\n",
    "d=1\n",
    "w= \"{0}'{1}'\".format(s,d)"
   ]
  },
  {
   "cell_type": "code",
   "execution_count": 47,
   "metadata": {
    "collapsed": false
   },
   "outputs": [
    {
     "data": {
      "text/plain": [
       "\"string'1'\""
      ]
     },
     "execution_count": 47,
     "metadata": {},
     "output_type": "execute_result"
    }
   ],
   "source": [
    "w"
   ]
  },
  {
   "cell_type": "code",
   "execution_count": 50,
   "metadata": {
    "collapsed": false
   },
   "outputs": [
    {
     "data": {
      "text/plain": [
       "'t/23tune1.npy'"
      ]
     },
     "execution_count": 50,
     "metadata": {},
     "output_type": "execute_result"
    }
   ],
   "source": [
    "import os.path as osp\n",
    "num_classes=23\n",
    "seed=1\n",
    "osp.join('t', \"{0}tune{1}.npy\".format(num_classes,seed))"
   ]
  },
  {
   "cell_type": "code",
   "execution_count": null,
   "metadata": {
    "collapsed": true
   },
   "outputs": [],
   "source": []
  }
 ],
 "metadata": {
  "kernelspec": {
   "display_name": "Python [Root]",
   "language": "python",
   "name": "Python [Root]"
  },
  "language_info": {
   "codemirror_mode": {
    "name": "ipython",
    "version": 2
   },
   "file_extension": ".py",
   "mimetype": "text/x-python",
   "name": "python",
   "nbconvert_exporter": "python",
   "pygments_lexer": "ipython2",
   "version": "2.7.11"
  }
 },
 "nbformat": 4,
 "nbformat_minor": 0
}
