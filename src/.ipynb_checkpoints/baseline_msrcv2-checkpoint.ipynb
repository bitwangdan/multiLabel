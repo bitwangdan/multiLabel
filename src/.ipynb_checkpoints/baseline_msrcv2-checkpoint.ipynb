{
 "cells": [
  {
   "cell_type": "code",
   "execution_count": 1,
   "metadata": {
    "collapsed": true
   },
   "outputs": [],
   "source": [
    "import os    \n",
    "os.environ['THEANO_FLAGS'] = \"device=gpu1\""
   ]
  },
  {
   "cell_type": "code",
   "execution_count": 2,
   "metadata": {
    "collapsed": false
   },
   "outputs": [
    {
     "name": "stderr",
     "output_type": "stream",
     "text": [
      "Using gpu device 1: GeForce GTX 690 (CNMeM is disabled, CuDNN 4007)\n"
     ]
    }
   ],
   "source": [
    "import theano\n",
    "import theano.tensor as T\n",
    "import lasagne\n",
    "\n",
    "import numpy as np\n",
    "import sys\n",
    "import cPickle as pickle\n",
    "from natsort import natsorted\n",
    "import time\n",
    "\n",
    "from data_prep import *\n",
    "from utils import build_model, produce_metrics, iterate_minibatches\n",
    "from sklearn.multiclass import OneVsRestClassifier\n",
    "from sklearn.svm import LinearSVC\n",
    "from sklearn.cross_validation import train_test_split\n",
    "\n",
    "def run(seed, batchsize, toy, verbose,\n",
    "    num_classes=23, \n",
    "    X_path='../datasets/msrcv2/Xaug_b01c.npy', \n",
    "    Y_path='../datasets/msrcv2/Y.npy', \n",
    "    MEAN_IMG_PATH='../models/theano_caffe_ref/ilsvrc_2012_mean.npy',\n",
    "    caffe_ref_path = '../models/theano_caffe_ref/caffe_reference.pkl',\n",
    "    do_classifier=1):\n",
    "        \n",
    "    baseline_msrcv2_net = build_model(caffe_ref_path, num_classes)\n",
    "    \n",
    "    ### LOADING DATA\n",
    "    X = np.load(X_path)\n",
    "    Y = np.load(Y_path)\n",
    "    MEAN_IMG = np.load(MEAN_IMG_PATH)\n",
    "    \n",
    "    ''' DEPRECIATED - for printing label-specific metrics \n",
    "    f = open('../datasets/msrcv2/label_color.pkl','r')\n",
    "    label_color = pickle.load(f)\n",
    "    f.close()\n",
    "    label_names = np.asarray(natsorted(label_color.keys()))\n",
    "    '''\n",
    "\n",
    "    print MEAN_IMG.shape, MEAN_IMG.dtype\n",
    "    \n",
    "    # Split train/val/test set\n",
    "        \n",
    "    indicies = np.arange(len(Y))\n",
    "    Ytrain, Ytest, idx_train, idx_test = train_test_split(Y, indicies, \n",
    "        random_state=seed, train_size=float(2)/3)\n",
    "    \n",
    "    print \"training and testing set size:\",len(idx_train),\"and\",len(idx_test)\n",
    "    \n",
    "    idx_aug_train = data_aug(idx_train, mode='aug', isMat='idx')\n",
    "    Xaug_train = b01c_to_bc01(X[idx_aug_train])\n",
    "    Yaug_train = data_aug(Ytrain, mode='aug', isMat='Y')  \n",
    "    \n",
    "    idx_aug_test = data_aug(idx_test, mode='noaug', isMat='idx')\n",
    "    Xtest = b01c_to_bc01(X[idx_aug_test])\n",
    "\n",
    "    MEAN_IMG_227 = skimage.transform.resize(\n",
    "        np.swapaxes(np.swapaxes(MEAN_IMG,0,1),1,2), (227,227), mode='nearest', preserve_range=True)    \n",
    "    MEAN_IMG = np.swapaxes(np.swapaxes(MEAN_IMG_227,1,2),0,1).reshape((1,3,227,227)).astype(\n",
    "        theano.config.floatX)\n",
    "    \n",
    "    print 'Training set',Xaug_train.shape, Xaug_train.dtype, Yaug_train.shape, Yaug_train.dtype\n",
    "    print 'Test set',Xtest.shape, Xtest.dtype, Ytest.shape, Ytest.dtype\n",
    "    print 'Mean image', MEAN_IMG.shape, MEAN_IMG.dtype    \n",
    "    \n",
    "    # Prepare Theano variables for inputs\n",
    "    input_var = T.tensor4('inputs')\n",
    "    network = build_model(caffe_ref_path, num_classes, input_var)\n",
    "    \n",
    "    features = lasagne.layers.get_output(\n",
    "        lasagne.layers.get_all_layers(network)[-3], # get 'fc7' in network\n",
    "        deterministic=True)\n",
    "    feat_fn = theano.function([input_var], [features])\n",
    "    \n",
    "    ### Extracting features on fc7\n",
    "    start_time = time.time()\n",
    "    feats = np.zeros((len(Yaug_train),4096))\n",
    "    n_batch=0    \n",
    "    for batch in iterate_minibatches(Xaug_train, Yaug_train, batchsize, shuffle=False):\n",
    "        inputs, _ = batch\n",
    "        inputs -= MEAN_IMG\n",
    "        \n",
    "        feats[n_batch*batchsize:(n_batch+1)*batchsize] = feat_fn(inputs)[0]\n",
    "        n_batch+=1\n",
    "                \n",
    "    # for the remainders\n",
    "    inputs = Xaug_train[n_batch*batchsize:] - MEAN_IMG    \n",
    "    feats[n_batch*batchsize:] = feat_fn(inputs)[0]\n",
    "    print('Feature extraction on training set: {:.1f}s').format(time.time()-start_time)\n",
    "    \n",
    "    # OvR linear SVM classifier\n",
    "    if do_classifier:\n",
    "        start_time = time.time()\n",
    "        clf = OneVsRestClassifier(LinearSVC())\n",
    "        clf.fit(feats, Yaug_train)\n",
    "        print('OvR classifier: {:.1f}s').format(time.time()-start_time)\n",
    "    \n",
    "    # Prediction on test set    \n",
    "    start_time = time.time()\n",
    "    \n",
    "    # Feature extraction on test set\n",
    "    feats_test = np.zeros((len(Ytest),4096))\n",
    "    n_batch=0    \n",
    "    for batch in iterate_minibatches(Xtest, Ytest, batchsize, shuffle=False):\n",
    "        inputs, _ = batch\n",
    "        inputs -= MEAN_IMG\n",
    "        \n",
    "        feats_test[n_batch*batchsize:(n_batch+1)*batchsize] = feat_fn(inputs)[0]\n",
    "        n_batch+=1\n",
    "                \n",
    "    # for the remainders\n",
    "    inputs = Xtest[n_batch*batchsize:] - MEAN_IMG    \n",
    "    feats_test[n_batch*batchsize:] = feat_fn(inputs)[0]\n",
    "    print('Feature extraction on test set: {:.1f}s').format(time.time()-start_time)\n",
    "    \n",
    "    if do_classifier:\n",
    "        y_pred = clf.predict(feats_test)\n",
    "        print('Prediction on test set: {:.1f}s').format(time.time()-start_time)    \n",
    "\n",
    "        produce_metrics(Ytest, y_pred, seed, verbose=verbose)\n",
    "        \n",
    "    else:\n",
    "        return feats, feats_test"
   ]
  },
  {
   "cell_type": "code",
   "execution_count": 3,
   "metadata": {
    "collapsed": false
   },
   "outputs": [
    {
     "name": "stdout",
     "output_type": "stream",
     "text": [
      "(3, 256, 256) float64\n",
      "training and testing set size: 394 and 197\n",
      "Training set (1970, 3, 227, 227) uint8 (1970, 23) int32\n",
      "Test set (197, 3, 227, 227) uint8 (197, 23) int32\n",
      "Mean image (1, 3, 227, 227) float32\n",
      "Feature extraction on training set: 6.3s\n",
      "OvR classifier: 14.0s\n",
      "Feature extraction on test set: 0.6s\n",
      "Prediction on test set: 0.6s\n",
      "Hamming Loss 0.0666519532112\n",
      "One-error 0.761421319797\n",
      "Coverage 13.538071066\n",
      "Rank loss 0.335170309026\n",
      "Micro metrics (0.69517543859649122, 0.66041666666666665, 0.67735042735042739, None)\n",
      "Macro metrics (0.70359986717470324, 0.6519978151296898, 0.66778971922267882, None)\n"
     ]
    },
    {
     "name": "stderr",
     "output_type": "stream",
     "text": [
      "/home/partner/hoalm/anaconda/envs/lasagne02/lib/python2.7/site-packages/sklearn/metrics/classification.py:1074: UndefinedMetricWarning: Precision and F-score are ill-defined and being set to 0.0 in labels with no predicted samples.\n",
      "  'precision', 'predicted', average, warn_for)\n"
     ]
    },
    {
     "ename": "TypeError",
     "evalue": "'NoneType' object is not iterable",
     "output_type": "error",
     "traceback": [
      "\u001b[1;31m---------------------------------------------------------------------------\u001b[0m",
      "\u001b[1;31mTypeError\u001b[0m                                 Traceback (most recent call last)",
      "\u001b[1;32m<ipython-input-3-f5dace017bd7>\u001b[0m in \u001b[0;36m<module>\u001b[1;34m()\u001b[0m\n\u001b[1;32m----> 1\u001b[1;33m \u001b[0mfeats\u001b[0m\u001b[1;33m,\u001b[0m \u001b[0mfeats_test\u001b[0m \u001b[1;33m=\u001b[0m \u001b[0mrun\u001b[0m\u001b[1;33m(\u001b[0m\u001b[0mseed\u001b[0m\u001b[1;33m=\u001b[0m\u001b[1;36m1\u001b[0m\u001b[1;33m,\u001b[0m \u001b[0mbatchsize\u001b[0m\u001b[1;33m=\u001b[0m\u001b[1;36m400\u001b[0m\u001b[1;33m,\u001b[0m \u001b[0mtoy\u001b[0m\u001b[1;33m=\u001b[0m\u001b[1;36m0\u001b[0m\u001b[1;33m,\u001b[0m \u001b[0mverbose\u001b[0m\u001b[1;33m=\u001b[0m\u001b[1;36m1\u001b[0m\u001b[1;33m)\u001b[0m\u001b[1;33m\u001b[0m\u001b[0m\n\u001b[0m",
      "\u001b[1;31mTypeError\u001b[0m: 'NoneType' object is not iterable"
     ]
    }
   ],
   "source": [
    "feats, feats_test = run(seed=1, batchsize=400, toy=0, verbose=1, do_classifier=0)"
   ]
  },
  {
   "cell_type": "code",
   "execution_count": null,
   "metadata": {
    "collapsed": false
   },
   "outputs": [],
   "source": []
  }
 ],
 "metadata": {
  "kernelspec": {
   "display_name": "Python 2",
   "language": "python",
   "name": "python2"
  },
  "language_info": {
   "codemirror_mode": {
    "name": "ipython",
    "version": 2
   },
   "file_extension": ".py",
   "mimetype": "text/x-python",
   "name": "python",
   "nbconvert_exporter": "python",
   "pygments_lexer": "ipython2",
   "version": "2.7.10"
  }
 },
 "nbformat": 4,
 "nbformat_minor": 0
}
